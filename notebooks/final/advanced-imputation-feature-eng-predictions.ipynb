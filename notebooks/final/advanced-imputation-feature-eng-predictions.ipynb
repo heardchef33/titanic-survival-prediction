{
 "cells": [
  {
   "cell_type": "markdown",
   "id": "01f32360",
   "metadata": {},
   "source": [
    "## Pipeline for Advanced Imputation and Feature Engineering "
   ]
  },
  {
   "cell_type": "code",
   "execution_count": 1,
   "id": "dbf9ec8c",
   "metadata": {},
   "outputs": [],
   "source": [
    "import pandas as pd \n",
    "import numpy as np"
   ]
  },
  {
   "cell_type": "code",
   "execution_count": 2,
   "id": "c7c30896",
   "metadata": {},
   "outputs": [],
   "source": [
    "train_val_df_raw = pd.read_csv('/Users/thananpornsethjinda/Desktop/internship/projects/titanic-survival-prediction/data/train.csv')\n",
    "test_df_raw = pd.read_csv('/Users/thananpornsethjinda/Desktop/internship/projects/titanic-survival-prediction/data/test.csv')"
   ]
  },
  {
   "cell_type": "code",
   "execution_count": 4,
   "id": "6f0b274c",
   "metadata": {},
   "outputs": [],
   "source": [
    "def clean_dataframe(df: pd.DataFrame, verbose: bool = True) -> pd.DataFrame:\n",
    "    df = df.copy()\n",
    "\n",
    "    # log helper\n",
    "    def log(msg):\n",
    "        if verbose:\n",
    "            print(f\"[INFO] {msg}\")\n",
    "\n",
    "    # 1. standardize column names\n",
    "    df.columns = df.columns.str.strip().str.lower().str.replace(' ', '_')\n",
    "    log(\"Standardized column names.\")\n",
    "\n",
    "    # 2. remove exact duplicates\n",
    "    dup_count = df.duplicated().sum()\n",
    "    if dup_count > 0:\n",
    "        df.drop_duplicates(inplace=True)\n",
    "        log(f\"Removed {dup_count} duplicate rows.\")\n",
    "\n",
    "    # 3. trim and lowercase all string (object) values\n",
    "    for col in df.select_dtypes(include='object'):\n",
    "        df[col] = df[col].astype(str).str.strip().str.lower()\n",
    "    log(\"Standardized string columns (lowercase + trimmed).\")\n",
    "\n",
    "    # 4. detect missing values (including blanks and placeholders)\n",
    "    placeholder_values = ['n/a', 'na', '--', '-', 'none', 'null', '', 'nan']\n",
    "    df.replace(placeholder_values, np.nan, inplace=True)\n",
    "    null_report = df.isnull().sum()\n",
    "    null_report = null_report[null_report > 0]\n",
    "    if not null_report.empty:\n",
    "        log(f\"Missing values found in columns:\\n{null_report}\")\n",
    "\n",
    "    # 5. flag constant columns\n",
    "    constant_cols = [col for col in df.columns if df[col].nunique() == 1]\n",
    "    if constant_cols:\n",
    "        log(f\"Constant columns (consider removing): {constant_cols}\")\n",
    "\n",
    "    # 6. flag high cardinality categorical columns\n",
    "    high_card_cols = [col for col in df.select_dtypes(include='object') if df[col].nunique() > 100]\n",
    "    if high_card_cols:\n",
    "        log(f\"High-cardinality columns (consider encoding strategies): {high_card_cols}\")\n",
    "\n",
    "    # 7. detect numeric outliers using IQR\n",
    "    num_cols = df.select_dtypes(include=np.number).columns\n",
    "    outlier_report = {}\n",
    "    for col in num_cols:\n",
    "        q1, q3 = df[col].quantile([0.25, 0.75])\n",
    "        iqr = q3 - q1\n",
    "        lower = q1 - 1.5 * iqr\n",
    "        upper = q3 + 1.5 * iqr\n",
    "        outliers = df[(df[col] < lower) | (df[col] > upper)][col].count()\n",
    "        if outliers > 0:\n",
    "            outlier_report[col] = outliers\n",
    "    if outlier_report:\n",
    "        log(f\"Potential numeric outliers detected:\\n{outlier_report}\")\n",
    "    \n",
    "    # 8. convert applicable columns to category\n",
    "    for col in df.select_dtypes(include='object'):\n",
    "        n_unique = df[col].nunique()\n",
    "        if n_unique < len(df) * 0.05:\n",
    "            df[col] = df[col].astype('category')\n",
    "    log(\"Converted suitable object columns to category dtype.\")\n",
    "\n",
    "    log(\"Data cleaning complete.\")\n",
    "    return df\n"
   ]
  },
  {
   "cell_type": "code",
   "execution_count": 5,
   "id": "70b0736d",
   "metadata": {},
   "outputs": [
    {
     "name": "stdout",
     "output_type": "stream",
     "text": [
      "[INFO] Standardized column names.\n",
      "[INFO] Standardized string columns (lowercase + trimmed).\n",
      "[INFO] Missing values found in columns:\n",
      "age         177\n",
      "cabin       687\n",
      "embarked      2\n",
      "dtype: int64\n",
      "[INFO] High-cardinality columns (consider encoding strategies): ['name', 'ticket', 'cabin']\n",
      "[INFO] Potential numeric outliers detected:\n",
      "{'age': np.int64(11), 'sibsp': np.int64(46), 'parch': np.int64(213), 'fare': np.int64(116)}\n",
      "[INFO] Converted suitable object columns to category dtype.\n",
      "[INFO] Data cleaning complete.\n",
      "----------------------------------------------------------------------------------------------------\n",
      "[INFO] Standardized column names.\n",
      "[INFO] Standardized string columns (lowercase + trimmed).\n",
      "[INFO] Missing values found in columns:\n",
      "age       86\n",
      "fare       1\n",
      "cabin    327\n",
      "dtype: int64\n",
      "[INFO] High-cardinality columns (consider encoding strategies): ['name', 'ticket']\n",
      "[INFO] Potential numeric outliers detected:\n",
      "{'age': np.int64(2), 'sibsp': np.int64(11), 'parch': np.int64(94), 'fare': np.int64(55)}\n",
      "[INFO] Converted suitable object columns to category dtype.\n",
      "[INFO] Data cleaning complete.\n"
     ]
    }
   ],
   "source": [
    "\n",
    "train_val_df = clean_dataframe(train_val_df_raw)\n",
    "\n",
    "print(\"-\" * 100)\n",
    "\n",
    "test_df = clean_dataframe(test_df_raw)"
   ]
  },
  {
   "cell_type": "code",
   "execution_count": 6,
   "id": "9ed64e64",
   "metadata": {},
   "outputs": [],
   "source": [
    "combined = pd.concat([train_val_df, test_df])"
   ]
  },
  {
   "cell_type": "code",
   "execution_count": 7,
   "id": "f2551158",
   "metadata": {},
   "outputs": [],
   "source": [
    "from sklearn.model_selection import train_test_split\n",
    "\n",
    "train_df, val_df = train_test_split(train_val_df, test_size=0.2, random_state=42)"
   ]
  },
  {
   "cell_type": "code",
   "execution_count": 9,
   "id": "3eeb481d",
   "metadata": {},
   "outputs": [],
   "source": [
    "X_train, y_train = train_df[['pclass', 'sex', 'age', 'embarked','sibsp','parch','name','ticket','fare']], train_df['survived']\n",
    "X_val, y_val = val_df[['pclass', 'sex', 'age', 'embarked','sibsp','parch','name','ticket','fare']], val_df['survived']\n",
    "X_test = test_df[['pclass', 'sex', 'age', 'embarked','sibsp','parch','name','ticket','fare']]"
   ]
  },
  {
   "cell_type": "markdown",
   "id": "8cc2a7a4",
   "metadata": {},
   "source": [
    "### Manual Age Imputation"
   ]
  },
  {
   "cell_type": "code",
   "execution_count": 10,
   "id": "5accafae",
   "metadata": {},
   "outputs": [],
   "source": [
    "TitleDict = {\"capt\": \"officer\",\"col\": \"officer\",\"major\": \"officer\",\"jonkheer\": \"royalty\", \\\n",
    "             \"don\": \"royalty\", \"sir\" : \"royalty\",\"dr\": \"royalty\",\"rev\": \"royalty\", \\\n",
    "             \"countess\":\"royalty\", \"mme\": \"mrs\", \"mlle\": \"miss\", \"ms\": \"mrs\",\"mr\" : \"mr\", \\\n",
    "             \"mrs\" : \"mrs\",\"miss\" : \"miss\",\"master\" : \"master\",\"lady\" : \"royalty\"}\n",
    "\n",
    "def preprocessing_feature_eng(df): \n",
    "\n",
    "    df = df.copy()\n",
    "\n",
    "    df['title'] = df.name.str.extract(r' ([A-Za-z]+)\\.', expand=False)\n",
    "\n",
    "    df['ticket_people'] = df['ticket'].map(combined['ticket'].value_counts())\n",
    "\n",
    "    df['ticket_per_person'] = df['fare']/df['ticket_people']\n",
    "\n",
    "    df['title'] = df.title.map(TitleDict)\n",
    "\n",
    "    df.loc[(df.title == 'miss') & (df.parch != 0) & (df.ticket_people > 1), 'title'] = \"female_child\"\n",
    "\n",
    "    return df"
   ]
  },
  {
   "cell_type": "code",
   "execution_count": 17,
   "id": "77cacb95",
   "metadata": {},
   "outputs": [],
   "source": [
    "X_train_eg = preprocessing_feature_eng(X_train)\n",
    "\n",
    "X_val_eg = preprocessing_feature_eng(X_val)\n",
    "\n",
    "X_test_eg = preprocessing_feature_eng(X_test)"
   ]
  },
  {
   "cell_type": "code",
   "execution_count": 29,
   "id": "89607216",
   "metadata": {},
   "outputs": [],
   "source": [
    "X_test_eg.isnull().sum()\n",
    "\n",
    "X_test_eg.at[414, 'title'] = 'royalty'"
   ]
  },
  {
   "cell_type": "code",
   "execution_count": 21,
   "id": "eff590dc",
   "metadata": {},
   "outputs": [],
   "source": [
    "imp_table = X_train_eg.groupby(['pclass', 'sex', 'title'], observed=True)['age'].mean().reset_index()[['pclass', 'sex', 'title', 'age']]"
   ]
  },
  {
   "cell_type": "code",
   "execution_count": 22,
   "id": "7ab12c34",
   "metadata": {},
   "outputs": [],
   "source": [
    "def fill_age(x): \n",
    "    return imp_table[(imp_table.sex == x.sex) & (imp_table.pclass == x.pclass) & (imp_table.title == x.title)]['age'].values[0]\n"
   ]
  },
  {
   "cell_type": "code",
   "execution_count": 23,
   "id": "f35a42d9",
   "metadata": {},
   "outputs": [],
   "source": [
    "for df in [X_train_eg, X_val_eg, X_test_eg]: \n",
    "    df['age'] = df.apply(lambda x: fill_age(x) if np.isnan(x['age']) else x['age'], axis = 1)"
   ]
  },
  {
   "cell_type": "code",
   "execution_count": null,
   "id": "ee08252e",
   "metadata": {},
   "outputs": [
    {
     "data": {
      "text/plain": [
       "pclass               0\n",
       "sex                  0\n",
       "age                  0\n",
       "embarked             0\n",
       "sibsp                0\n",
       "parch                0\n",
       "name                 0\n",
       "ticket               0\n",
       "fare                 1\n",
       "title                0\n",
       "ticket_people        0\n",
       "ticket_per_person    1\n",
       "dtype: int64"
      ]
     },
     "execution_count": 30,
     "metadata": {},
     "output_type": "execute_result"
    }
   ],
   "source": [
    "X_test_eg.isnull().sum()"
   ]
  },
  {
   "cell_type": "code",
   "execution_count": 31,
   "id": "1068d19b",
   "metadata": {},
   "outputs": [
    {
     "data": {
      "text/plain": [
       "pclass               0\n",
       "sex                  0\n",
       "age                  0\n",
       "embarked             0\n",
       "sibsp                0\n",
       "parch                0\n",
       "name                 0\n",
       "ticket               0\n",
       "fare                 0\n",
       "title                0\n",
       "ticket_people        0\n",
       "ticket_per_person    0\n",
       "dtype: int64"
      ]
     },
     "execution_count": 31,
     "metadata": {},
     "output_type": "execute_result"
    }
   ],
   "source": [
    "X_val_eg.isnull().sum()"
   ]
  },
  {
   "cell_type": "code",
   "execution_count": 28,
   "id": "bd91362d",
   "metadata": {},
   "outputs": [
    {
     "data": {
      "text/plain": [
       "pclass               0\n",
       "sex                  0\n",
       "age                  0\n",
       "embarked             2\n",
       "sibsp                0\n",
       "parch                0\n",
       "name                 0\n",
       "ticket               0\n",
       "fare                 0\n",
       "title                0\n",
       "ticket_people        0\n",
       "ticket_per_person    0\n",
       "dtype: int64"
      ]
     },
     "execution_count": 28,
     "metadata": {},
     "output_type": "execute_result"
    }
   ],
   "source": [
    "X_train_eg.isnull().sum()"
   ]
  },
  {
   "cell_type": "code",
   "execution_count": 32,
   "id": "cf7f2513",
   "metadata": {},
   "outputs": [],
   "source": [
    "from sklearn.impute import SimpleImputer\n",
    "\n",
    "impute = SimpleImputer(strategy='most_frequent')\n",
    "\n",
    "X_train_eg[['embarked']] = impute.fit_transform(X_train_eg[['embarked']])"
   ]
  },
  {
   "cell_type": "code",
   "execution_count": 34,
   "id": "b2a08bb2",
   "metadata": {},
   "outputs": [
    {
     "data": {
      "text/html": [
       "<div>\n",
       "<style scoped>\n",
       "    .dataframe tbody tr th:only-of-type {\n",
       "        vertical-align: middle;\n",
       "    }\n",
       "\n",
       "    .dataframe tbody tr th {\n",
       "        vertical-align: top;\n",
       "    }\n",
       "\n",
       "    .dataframe thead th {\n",
       "        text-align: right;\n",
       "    }\n",
       "</style>\n",
       "<table border=\"1\" class=\"dataframe\">\n",
       "  <thead>\n",
       "    <tr style=\"text-align: right;\">\n",
       "      <th></th>\n",
       "      <th>pclass</th>\n",
       "      <th>sex</th>\n",
       "      <th>age</th>\n",
       "      <th>embarked</th>\n",
       "      <th>sibsp</th>\n",
       "      <th>parch</th>\n",
       "      <th>name</th>\n",
       "      <th>ticket</th>\n",
       "      <th>fare</th>\n",
       "      <th>title</th>\n",
       "      <th>ticket_people</th>\n",
       "      <th>ticket_per_person</th>\n",
       "    </tr>\n",
       "  </thead>\n",
       "  <tbody>\n",
       "    <tr>\n",
       "      <th>152</th>\n",
       "      <td>3</td>\n",
       "      <td>male</td>\n",
       "      <td>60.5</td>\n",
       "      <td>s</td>\n",
       "      <td>0</td>\n",
       "      <td>0</td>\n",
       "      <td>storey, mr. thomas</td>\n",
       "      <td>3701</td>\n",
       "      <td>NaN</td>\n",
       "      <td>mr</td>\n",
       "      <td>1</td>\n",
       "      <td>NaN</td>\n",
       "    </tr>\n",
       "  </tbody>\n",
       "</table>\n",
       "</div>"
      ],
      "text/plain": [
       "     pclass   sex   age embarked  sibsp  parch                name ticket  \\\n",
       "152       3  male  60.5        s      0      0  storey, mr. thomas   3701   \n",
       "\n",
       "     fare title  ticket_people  ticket_per_person  \n",
       "152   NaN    mr              1                NaN  "
      ]
     },
     "execution_count": 34,
     "metadata": {},
     "output_type": "execute_result"
    }
   ],
   "source": [
    "X_test_eg[X_test_eg['fare'].isnull()]"
   ]
  },
  {
   "cell_type": "code",
   "execution_count": 36,
   "id": "0353d892",
   "metadata": {},
   "outputs": [],
   "source": [
    "X_test_eg.loc[152, ['fare', 'ticket_per_person']] = X_train_eg['ticket_per_person'].mean()"
   ]
  },
  {
   "cell_type": "markdown",
   "id": "369b2e2e",
   "metadata": {},
   "source": [
    "### Pipeline "
   ]
  },
  {
   "cell_type": "code",
   "execution_count": 40,
   "id": "c264b100",
   "metadata": {},
   "outputs": [
    {
     "data": {
      "text/html": [
       "<div>\n",
       "<style scoped>\n",
       "    .dataframe tbody tr th:only-of-type {\n",
       "        vertical-align: middle;\n",
       "    }\n",
       "\n",
       "    .dataframe tbody tr th {\n",
       "        vertical-align: top;\n",
       "    }\n",
       "\n",
       "    .dataframe thead th {\n",
       "        text-align: right;\n",
       "    }\n",
       "</style>\n",
       "<table border=\"1\" class=\"dataframe\">\n",
       "  <thead>\n",
       "    <tr style=\"text-align: right;\">\n",
       "      <th></th>\n",
       "      <th>pclass</th>\n",
       "      <th>sex</th>\n",
       "      <th>age</th>\n",
       "      <th>embarked</th>\n",
       "      <th>sibsp</th>\n",
       "      <th>parch</th>\n",
       "      <th>name</th>\n",
       "      <th>ticket</th>\n",
       "      <th>fare</th>\n",
       "      <th>title</th>\n",
       "      <th>ticket_people</th>\n",
       "      <th>ticket_per_person</th>\n",
       "    </tr>\n",
       "  </thead>\n",
       "  <tbody>\n",
       "    <tr>\n",
       "      <th>331</th>\n",
       "      <td>1</td>\n",
       "      <td>male</td>\n",
       "      <td>45.500000</td>\n",
       "      <td>s</td>\n",
       "      <td>0</td>\n",
       "      <td>0</td>\n",
       "      <td>partner, mr. austen</td>\n",
       "      <td>113043</td>\n",
       "      <td>28.5000</td>\n",
       "      <td>mr</td>\n",
       "      <td>1</td>\n",
       "      <td>28.500000</td>\n",
       "    </tr>\n",
       "    <tr>\n",
       "      <th>733</th>\n",
       "      <td>2</td>\n",
       "      <td>male</td>\n",
       "      <td>23.000000</td>\n",
       "      <td>s</td>\n",
       "      <td>0</td>\n",
       "      <td>0</td>\n",
       "      <td>berriman, mr. william john</td>\n",
       "      <td>28425</td>\n",
       "      <td>13.0000</td>\n",
       "      <td>mr</td>\n",
       "      <td>1</td>\n",
       "      <td>13.000000</td>\n",
       "    </tr>\n",
       "    <tr>\n",
       "      <th>382</th>\n",
       "      <td>3</td>\n",
       "      <td>male</td>\n",
       "      <td>32.000000</td>\n",
       "      <td>s</td>\n",
       "      <td>0</td>\n",
       "      <td>0</td>\n",
       "      <td>tikkanen, mr. juho</td>\n",
       "      <td>ston/o 2. 3101293</td>\n",
       "      <td>7.9250</td>\n",
       "      <td>mr</td>\n",
       "      <td>1</td>\n",
       "      <td>7.925000</td>\n",
       "    </tr>\n",
       "    <tr>\n",
       "      <th>704</th>\n",
       "      <td>3</td>\n",
       "      <td>male</td>\n",
       "      <td>26.000000</td>\n",
       "      <td>s</td>\n",
       "      <td>1</td>\n",
       "      <td>0</td>\n",
       "      <td>hansen, mr. henrik juul</td>\n",
       "      <td>350025</td>\n",
       "      <td>7.8542</td>\n",
       "      <td>mr</td>\n",
       "      <td>1</td>\n",
       "      <td>7.854200</td>\n",
       "    </tr>\n",
       "    <tr>\n",
       "      <th>813</th>\n",
       "      <td>3</td>\n",
       "      <td>female</td>\n",
       "      <td>6.000000</td>\n",
       "      <td>s</td>\n",
       "      <td>4</td>\n",
       "      <td>2</td>\n",
       "      <td>andersson, miss. ebba iris alfrida</td>\n",
       "      <td>347082</td>\n",
       "      <td>31.2750</td>\n",
       "      <td>female_child</td>\n",
       "      <td>7</td>\n",
       "      <td>4.467857</td>\n",
       "    </tr>\n",
       "    <tr>\n",
       "      <th>...</th>\n",
       "      <td>...</td>\n",
       "      <td>...</td>\n",
       "      <td>...</td>\n",
       "      <td>...</td>\n",
       "      <td>...</td>\n",
       "      <td>...</td>\n",
       "      <td>...</td>\n",
       "      <td>...</td>\n",
       "      <td>...</td>\n",
       "      <td>...</td>\n",
       "      <td>...</td>\n",
       "      <td>...</td>\n",
       "    </tr>\n",
       "    <tr>\n",
       "      <th>106</th>\n",
       "      <td>3</td>\n",
       "      <td>female</td>\n",
       "      <td>21.000000</td>\n",
       "      <td>s</td>\n",
       "      <td>0</td>\n",
       "      <td>0</td>\n",
       "      <td>salkjelsvik, miss. anna kristine</td>\n",
       "      <td>343120</td>\n",
       "      <td>7.6500</td>\n",
       "      <td>miss</td>\n",
       "      <td>1</td>\n",
       "      <td>7.650000</td>\n",
       "    </tr>\n",
       "    <tr>\n",
       "      <th>270</th>\n",
       "      <td>1</td>\n",
       "      <td>male</td>\n",
       "      <td>40.431818</td>\n",
       "      <td>s</td>\n",
       "      <td>0</td>\n",
       "      <td>0</td>\n",
       "      <td>cairns, mr. alexander</td>\n",
       "      <td>113798</td>\n",
       "      <td>31.0000</td>\n",
       "      <td>mr</td>\n",
       "      <td>2</td>\n",
       "      <td>15.500000</td>\n",
       "    </tr>\n",
       "    <tr>\n",
       "      <th>860</th>\n",
       "      <td>3</td>\n",
       "      <td>male</td>\n",
       "      <td>41.000000</td>\n",
       "      <td>s</td>\n",
       "      <td>2</td>\n",
       "      <td>0</td>\n",
       "      <td>hansen, mr. claus peter</td>\n",
       "      <td>350026</td>\n",
       "      <td>14.1083</td>\n",
       "      <td>mr</td>\n",
       "      <td>2</td>\n",
       "      <td>7.054150</td>\n",
       "    </tr>\n",
       "    <tr>\n",
       "      <th>435</th>\n",
       "      <td>1</td>\n",
       "      <td>female</td>\n",
       "      <td>14.000000</td>\n",
       "      <td>s</td>\n",
       "      <td>1</td>\n",
       "      <td>2</td>\n",
       "      <td>carter, miss. lucile polk</td>\n",
       "      <td>113760</td>\n",
       "      <td>120.0000</td>\n",
       "      <td>female_child</td>\n",
       "      <td>4</td>\n",
       "      <td>30.000000</td>\n",
       "    </tr>\n",
       "    <tr>\n",
       "      <th>102</th>\n",
       "      <td>1</td>\n",
       "      <td>male</td>\n",
       "      <td>21.000000</td>\n",
       "      <td>s</td>\n",
       "      <td>0</td>\n",
       "      <td>1</td>\n",
       "      <td>white, mr. richard frasar</td>\n",
       "      <td>35281</td>\n",
       "      <td>77.2875</td>\n",
       "      <td>mr</td>\n",
       "      <td>2</td>\n",
       "      <td>38.643750</td>\n",
       "    </tr>\n",
       "  </tbody>\n",
       "</table>\n",
       "<p>712 rows × 12 columns</p>\n",
       "</div>"
      ],
      "text/plain": [
       "     pclass     sex        age embarked  sibsp  parch  \\\n",
       "331       1    male  45.500000        s      0      0   \n",
       "733       2    male  23.000000        s      0      0   \n",
       "382       3    male  32.000000        s      0      0   \n",
       "704       3    male  26.000000        s      1      0   \n",
       "813       3  female   6.000000        s      4      2   \n",
       "..      ...     ...        ...      ...    ...    ...   \n",
       "106       3  female  21.000000        s      0      0   \n",
       "270       1    male  40.431818        s      0      0   \n",
       "860       3    male  41.000000        s      2      0   \n",
       "435       1  female  14.000000        s      1      2   \n",
       "102       1    male  21.000000        s      0      1   \n",
       "\n",
       "                                   name             ticket      fare  \\\n",
       "331                 partner, mr. austen             113043   28.5000   \n",
       "733          berriman, mr. william john              28425   13.0000   \n",
       "382                  tikkanen, mr. juho  ston/o 2. 3101293    7.9250   \n",
       "704             hansen, mr. henrik juul             350025    7.8542   \n",
       "813  andersson, miss. ebba iris alfrida             347082   31.2750   \n",
       "..                                  ...                ...       ...   \n",
       "106    salkjelsvik, miss. anna kristine             343120    7.6500   \n",
       "270               cairns, mr. alexander             113798   31.0000   \n",
       "860             hansen, mr. claus peter             350026   14.1083   \n",
       "435           carter, miss. lucile polk             113760  120.0000   \n",
       "102           white, mr. richard frasar              35281   77.2875   \n",
       "\n",
       "            title  ticket_people  ticket_per_person  \n",
       "331            mr              1          28.500000  \n",
       "733            mr              1          13.000000  \n",
       "382            mr              1           7.925000  \n",
       "704            mr              1           7.854200  \n",
       "813  female_child              7           4.467857  \n",
       "..            ...            ...                ...  \n",
       "106          miss              1           7.650000  \n",
       "270            mr              2          15.500000  \n",
       "860            mr              2           7.054150  \n",
       "435  female_child              4          30.000000  \n",
       "102            mr              2          38.643750  \n",
       "\n",
       "[712 rows x 12 columns]"
      ]
     },
     "execution_count": 40,
     "metadata": {},
     "output_type": "execute_result"
    }
   ],
   "source": [
    "X_train_eg"
   ]
  },
  {
   "cell_type": "code",
   "execution_count": 41,
   "id": "87177643",
   "metadata": {},
   "outputs": [],
   "source": [
    "PASSTHROUGH_COLS = ['pclass']\n",
    "NUMERIC_COLS = ['age', 'sibsp', 'parch', 'ticket_people', 'ticket_per_person']\n",
    "CATEGORICAL_COLS = ['sex', 'embarked']"
   ]
  },
  {
   "cell_type": "code",
   "execution_count": 42,
   "id": "713c0088",
   "metadata": {},
   "outputs": [],
   "source": [
    "from sklearn.pipeline import Pipeline \n",
    "from sklearn.preprocessing import StandardScaler, OneHotEncoder\n",
    "\n",
    "num_pipeline = Pipeline(steps=[\n",
    "    ('scale', StandardScaler())\n",
    "])\n",
    "\n",
    "cat_pipeline = Pipeline(steps=[\n",
    "    ('one-hot-encoding', OneHotEncoder(drop='first', handle_unknown='ignore', sparse_output=False))\n",
    "])"
   ]
  },
  {
   "cell_type": "code",
   "execution_count": 43,
   "id": "0ddf9ecd",
   "metadata": {},
   "outputs": [],
   "source": [
    "from sklearn.compose import ColumnTransformer\n",
    "\n",
    "col_transform = ColumnTransformer(transformers=[\n",
    "    ('num_pipeline', num_pipeline, NUMERIC_COLS), \n",
    "    ('cat_pipeline', cat_pipeline, CATEGORICAL_COLS), \n",
    "    ('passthrough_cols', 'passthrough', PASSTHROUGH_COLS)\n",
    "], remainder='drop')"
   ]
  },
  {
   "cell_type": "code",
   "execution_count": 52,
   "id": "35556680",
   "metadata": {},
   "outputs": [],
   "source": [
    "from sklearn.metrics import confusion_matrix, f1_score\n",
    "\n",
    "def fit_and_print(p, X_train=X_train_eg, y_train=y_train, X_val=X_val_eg, y_val=y_val):\n",
    "\n",
    "    p.fit(X_train, y_train) \n",
    "    train_preds = p.predict(X_train)\n",
    "    val_preds = p.predict(X_val)\n",
    "    print(\"Training Error:\")\n",
    "    print(confusion_matrix(y_train, train_preds, normalize='true'))\n",
    "    print(f1_score(y_train, train_preds))\n",
    "    print(\"-\" * 30)\n",
    "    print(\"Validation Error:\")\n",
    "    print(confusion_matrix(y_val, val_preds, normalize='true'))\n",
    "    print(f1_score(y_val, val_preds))\n",
    "\n",
    "def test_predictions(p, X_train=X_train_eg, y_train=y_train, X_test=X_test_eg): \n",
    "    p.fit(X_train, y_train) \n",
    "    predictions = p.predict(X_test)\n",
    "    return predictions"
   ]
  },
  {
   "cell_type": "code",
   "execution_count": 57,
   "id": "aa281138",
   "metadata": {},
   "outputs": [
    {
     "name": "stdout",
     "output_type": "stream",
     "text": [
      "Training Error:\n",
      "[[0.86261261 0.13738739]\n",
      " [0.30970149 0.69029851]]\n",
      "0.7198443579766537\n",
      "------------------------------\n",
      "Validation Error:\n",
      "[[0.83809524 0.16190476]\n",
      " [0.28378378 0.71621622]]\n",
      "0.7361111111111112\n"
     ]
    }
   ],
   "source": [
    "# Linear Discriminant Analysis\n",
    "\n",
    "from sklearn.discriminant_analysis import LinearDiscriminantAnalysis\n",
    "from sklearn.pipeline import make_pipeline\n",
    "\n",
    "ldr = LinearDiscriminantAnalysis()\n",
    "\n",
    "ldr_pipeline = make_pipeline(col_transform, ldr)\n",
    "\n",
    "# Testing\n",
    "\n",
    "fit_and_print(ldr_pipeline)"
   ]
  },
  {
   "cell_type": "code",
   "execution_count": 53,
   "id": "715ab1c9",
   "metadata": {},
   "outputs": [
    {
     "name": "stdout",
     "output_type": "stream",
     "text": [
      "Training Error:\n",
      "[[0.99324324 0.00675676]\n",
      " [0.04104478 0.95895522]]\n",
      "0.9734848484848485\n",
      "------------------------------\n",
      "Validation Error:\n",
      "[[0.84761905 0.15238095]\n",
      " [0.22972973 0.77027027]]\n",
      "0.7755102040816326\n"
     ]
    }
   ],
   "source": [
    "# Random Forest \n",
    "\n",
    "from sklearn.ensemble import RandomForestClassifier\n",
    "from sklearn.pipeline import make_pipeline\n",
    "\n",
    "rfc = RandomForestClassifier()\n",
    "\n",
    "rfc_pipeline = make_pipeline(col_transform, rfc)\n",
    "\n",
    "# Testing\n",
    "\n",
    "fit_and_print(rfc_pipeline)\n",
    "\n"
   ]
  },
  {
   "cell_type": "code",
   "execution_count": 58,
   "id": "be8fed58",
   "metadata": {},
   "outputs": [],
   "source": [
    "output = pd.DataFrame({'PassengerId': test_df_raw.PassengerId, 'Survived': test_predictions(ldr_pipeline)})\n",
    "\n"
   ]
  },
  {
   "cell_type": "code",
   "execution_count": 60,
   "id": "8cda30f0",
   "metadata": {},
   "outputs": [],
   "source": [
    "output.to_csv('submission5.csv', index=False)"
   ]
  }
 ],
 "metadata": {
  "kernelspec": {
   "display_name": "grass",
   "language": "python",
   "name": "python3"
  },
  "language_info": {
   "codemirror_mode": {
    "name": "ipython",
    "version": 3
   },
   "file_extension": ".py",
   "mimetype": "text/x-python",
   "name": "python",
   "nbconvert_exporter": "python",
   "pygments_lexer": "ipython3",
   "version": "3.13.2"
  }
 },
 "nbformat": 4,
 "nbformat_minor": 5
}
